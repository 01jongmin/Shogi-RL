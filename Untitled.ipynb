{
 "cells": [
  {
   "cell_type": "code",
   "execution_count": 6,
   "id": "76c8fbce",
   "metadata": {},
   "outputs": [],
   "source": [
    "from shogi_pettingzoo_env import *\n",
    "from tianshou.env import PettingZooEnv\n",
    "from tianshou.policy import MultiAgentPolicyManager"
   ]
  },
  {
   "cell_type": "code",
   "execution_count": 2,
   "id": "3556117a",
   "metadata": {},
   "outputs": [
    {
     "name": "stderr",
     "output_type": "stream",
     "text": [
      "/Users/jongmin/opt/anaconda3/envs/shogi/lib/python3.8/site-packages/pettingzoo/utils/wrappers/base.py:44: UserWarning: The `observation_spaces` dictionary is deprecated. Use the `observation_space` function instead.\n",
      "  warnings.warn(\"The `observation_spaces` dictionary is deprecated. Use the `observation_space` function instead.\")\n",
      "/Users/jongmin/opt/anaconda3/envs/shogi/lib/python3.8/site-packages/pettingzoo/utils/wrappers/base.py:52: UserWarning: The `action_spaces` dictionary is deprecated. Use the `action_space` function instead.\n",
      "  warnings.warn(\"The `action_spaces` dictionary is deprecated. Use the `action_space` function instead.\")\n",
      "/Users/jongmin/opt/anaconda3/envs/shogi/lib/python3.8/site-packages/pettingzoo/utils/env.py:77: UserWarning: Your environment should override the observation_space function. Attempting to use the observation_spaces dict attribute.\n",
      "  warnings.warn(\"Your environment should override the observation_space function. Attempting to use the observation_spaces dict attribute.\")\n",
      "/Users/jongmin/opt/anaconda3/envs/shogi/lib/python3.8/site-packages/pettingzoo/utils/env.py:88: UserWarning: Your environment should override the action_space function. Attempting to use the action_spaces dict attribute.\n",
      "  warnings.warn(\"Your environment should override the action_space function. Attempting to use the action_spaces dict attribute.\")\n"
     ]
    }
   ],
   "source": [
    "env = PettingZooEnv(get_env())"
   ]
  },
  {
   "cell_type": "code",
   "execution_count": 3,
   "id": "730d28f3",
   "metadata": {},
   "outputs": [
    {
     "data": {
      "text/plain": [
       "{'agent_id': 'player_0',\n",
       " 'obs': array([[[0, 0, 0],\n",
       "         [0, 0, 0],\n",
       "         [0, 0, 0],\n",
       "         [0, 0, 0]],\n",
       " \n",
       "        [[1, 1, 1],\n",
       "         [1, 1, 1],\n",
       "         [1, 1, 1],\n",
       "         [1, 1, 1]],\n",
       " \n",
       "        [[0, 0, 0],\n",
       "         [0, 0, 0],\n",
       "         [0, 0, 0],\n",
       "         [0, 0, 0]],\n",
       " \n",
       "        [[0, 0, 0],\n",
       "         [0, 0, 0],\n",
       "         [0, 0, 0],\n",
       "         [0, 0, 0]],\n",
       " \n",
       "        [[0, 0, 0],\n",
       "         [0, 0, 0],\n",
       "         [0, 0, 0],\n",
       "         [0, 0, 0]],\n",
       " \n",
       "        [[0, 0, 0],\n",
       "         [0, 0, 0],\n",
       "         [0, 0, 0],\n",
       "         [0, 0, 0]],\n",
       " \n",
       "        [[0, 0, 0],\n",
       "         [0, 0, 0],\n",
       "         [0, 0, 0],\n",
       "         [0, 0, 0]],\n",
       " \n",
       "        [[0, 0, 0],\n",
       "         [0, 0, 0],\n",
       "         [0, 0, 0],\n",
       "         [0, 0, 0]],\n",
       " \n",
       "        [[0, 0, 0],\n",
       "         [0, 0, 0],\n",
       "         [0, 1, 0],\n",
       "         [0, 0, 0]],\n",
       " \n",
       "        [[0, 0, 0],\n",
       "         [0, 0, 0],\n",
       "         [0, 0, 0],\n",
       "         [0, 0, 0]],\n",
       " \n",
       "        [[0, 0, 0],\n",
       "         [0, 0, 0],\n",
       "         [0, 0, 0],\n",
       "         [0, 0, 1]],\n",
       " \n",
       "        [[0, 0, 0],\n",
       "         [0, 0, 0],\n",
       "         [0, 0, 0],\n",
       "         [1, 0, 0]],\n",
       " \n",
       "        [[0, 0, 0],\n",
       "         [0, 0, 0],\n",
       "         [0, 0, 0],\n",
       "         [0, 1, 0]],\n",
       " \n",
       "        [[0, 0, 0],\n",
       "         [0, 1, 0],\n",
       "         [0, 0, 0],\n",
       "         [0, 0, 0]],\n",
       " \n",
       "        [[0, 0, 0],\n",
       "         [0, 0, 0],\n",
       "         [0, 0, 0],\n",
       "         [0, 0, 0]],\n",
       " \n",
       "        [[1, 0, 0],\n",
       "         [0, 0, 0],\n",
       "         [0, 0, 0],\n",
       "         [0, 0, 0]],\n",
       " \n",
       "        [[0, 0, 1],\n",
       "         [0, 0, 0],\n",
       "         [0, 0, 0],\n",
       "         [0, 0, 0]],\n",
       " \n",
       "        [[0, 1, 0],\n",
       "         [0, 0, 0],\n",
       "         [0, 0, 0],\n",
       "         [0, 0, 0]]], dtype=int8),\n",
       " 'mask': [False,\n",
       "  False,\n",
       "  False,\n",
       "  False,\n",
       "  False,\n",
       "  False,\n",
       "  False,\n",
       "  False,\n",
       "  False,\n",
       "  False,\n",
       "  False,\n",
       "  False,\n",
       "  False,\n",
       "  False,\n",
       "  False,\n",
       "  False,\n",
       "  False,\n",
       "  False,\n",
       "  False,\n",
       "  False,\n",
       "  False,\n",
       "  False,\n",
       "  False,\n",
       "  False,\n",
       "  False,\n",
       "  False,\n",
       "  False,\n",
       "  False,\n",
       "  False,\n",
       "  False,\n",
       "  False,\n",
       "  False,\n",
       "  False,\n",
       "  False,\n",
       "  False,\n",
       "  False,\n",
       "  False,\n",
       "  False,\n",
       "  False,\n",
       "  False,\n",
       "  False,\n",
       "  False,\n",
       "  False,\n",
       "  False,\n",
       "  False,\n",
       "  False,\n",
       "  False,\n",
       "  False,\n",
       "  False,\n",
       "  False,\n",
       "  False,\n",
       "  False,\n",
       "  False,\n",
       "  False,\n",
       "  False,\n",
       "  False,\n",
       "  False,\n",
       "  True,\n",
       "  False,\n",
       "  False,\n",
       "  False,\n",
       "  False,\n",
       "  False,\n",
       "  False,\n",
       "  False,\n",
       "  False,\n",
       "  False,\n",
       "  False,\n",
       "  False,\n",
       "  False,\n",
       "  False,\n",
       "  False,\n",
       "  False,\n",
       "  False,\n",
       "  False,\n",
       "  False,\n",
       "  False,\n",
       "  False,\n",
       "  False,\n",
       "  False,\n",
       "  True,\n",
       "  False,\n",
       "  True,\n",
       "  False,\n",
       "  False,\n",
       "  False,\n",
       "  False,\n",
       "  False,\n",
       "  False,\n",
       "  True,\n",
       "  False,\n",
       "  False,\n",
       "  False,\n",
       "  False,\n",
       "  False,\n",
       "  False,\n",
       "  False,\n",
       "  False,\n",
       "  False,\n",
       "  False,\n",
       "  False,\n",
       "  False,\n",
       "  False,\n",
       "  False,\n",
       "  False,\n",
       "  False,\n",
       "  False,\n",
       "  False,\n",
       "  False,\n",
       "  False,\n",
       "  False,\n",
       "  False,\n",
       "  False,\n",
       "  False,\n",
       "  False,\n",
       "  False,\n",
       "  False,\n",
       "  False,\n",
       "  False,\n",
       "  False,\n",
       "  False,\n",
       "  False,\n",
       "  False]}"
      ]
     },
     "execution_count": 3,
     "metadata": {},
     "output_type": "execute_result"
    }
   ],
   "source": [
    "env.reset()"
   ]
  },
  {
   "cell_type": "code",
   "execution_count": 4,
   "id": "ecb12400",
   "metadata": {},
   "outputs": [
    {
     "ename": "NameError",
     "evalue": "name 'tianshou' is not defined",
     "output_type": "error",
     "traceback": [
      "\u001b[0;31m---------------------------------------------------------------------------\u001b[0m",
      "\u001b[0;31mNameError\u001b[0m                                 Traceback (most recent call last)",
      "\u001b[0;32m/var/folders/5y/0ycl3_p52tq39cqbr68vf0mc0000gp/T/ipykernel_18102/3372852129.py\u001b[0m in \u001b[0;36m<module>\u001b[0;34m\u001b[0m\n\u001b[0;32m----> 1\u001b[0;31m \u001b[0mtianshou\u001b[0m\u001b[0;34m.\u001b[0m\u001b[0mpolicy\u001b[0m\u001b[0;34m.\u001b[0m\u001b[0mmultiagent\u001b[0m\u001b[0;34m.\u001b[0m\u001b[0mMultiAgentPolicyManager\u001b[0m\u001b[0;34m(\u001b[0m\u001b[0;34m)\u001b[0m\u001b[0;34m\u001b[0m\u001b[0;34m\u001b[0m\u001b[0m\n\u001b[0m",
      "\u001b[0;31mNameError\u001b[0m: name 'tianshou' is not defined"
     ]
    }
   ],
   "source": [
    "MultiAgentPolicyManager()"
   ]
  },
  {
   "cell_type": "code",
   "execution_count": null,
   "id": "7a87353e",
   "metadata": {},
   "outputs": [],
   "source": []
  },
  {
   "cell_type": "code",
   "execution_count": null,
   "id": "aa3136db",
   "metadata": {},
   "outputs": [],
   "source": []
  },
  {
   "cell_type": "code",
   "execution_count": 11,
   "id": "ea61f4d8",
   "metadata": {},
   "outputs": [],
   "source": [
    "board.step(80, 0)"
   ]
  },
  {
   "cell_type": "code",
   "execution_count": 13,
   "id": "936c90bf",
   "metadata": {},
   "outputs": [
    {
     "name": "stdout",
     "output_type": "stream",
     "text": [
      "\u001b[32m將\u001b[0m\t\u001b[32m王\u001b[0m\t\u001b[32m相\u001b[0m\n",
      " \t\u001b[32m子\u001b[0m\t \n",
      "\u001b[31m王\u001b[0m\t\u001b[31m子\u001b[0m\t \n",
      "\u001b[31m相\u001b[0m\t \t\u001b[31m將\u001b[0m\n"
     ]
    }
   ],
   "source": [
    "board.render(0)"
   ]
  },
  {
   "cell_type": "code",
   "execution_count": null,
   "id": "067a5e33",
   "metadata": {},
   "outputs": [],
   "source": []
  },
  {
   "cell_type": "code",
   "execution_count": 5,
   "id": "b3d25a83",
   "metadata": {},
   "outputs": [],
   "source": [
    "board_shape = (4, 3)\n",
    "vectorize = np.vectorize(lambda obj, a, b: obj != None and obj.symbol == a and obj.color == b)\n",
    "\n",
    "def get_observation(board, agent_idx):\n",
    "    state = board.get_perspective_state(agent_idx)\n",
    "    \n",
    "    stack = np.empty((18, 4, 3), dtype=np.int8)\n",
    "    stack[0] = np.full(board_shape, agent_idx)\n",
    "    stack[1] = np.ones(board_shape)\n",
    "    \n",
    "    for i, piece_symbol in enumerate([\"JA\", \"JANG\", \"SANG\"]):\n",
    "        stack[i + 2] = np.full(board_shape, board.prisoners[agent_idx][piece_symbol])\n",
    "        stack[i + 2 + 3] = np.full(board_shape, board.prisoners[not agent_idx][piece_symbol])\n",
    "    \n",
    "    for i, piece_symbol in enumerate([\"JA\", \"HU\", \"JANG\", \"SANG\", \"WANG\"]):\n",
    "        stack[i + 8] = vectorize(state, piece_symbol, agent_idx)\n",
    "        stack[i + 8 + 5] = vectorize(state, piece_symbol, not agent_idx)"
   ]
  },
  {
   "cell_type": "code",
   "execution_count": 9,
   "id": "f2142436",
   "metadata": {},
   "outputs": [
    {
     "ename": "NameError",
     "evalue": "name 'board' is not defined",
     "output_type": "error",
     "traceback": [
      "\u001b[0;31m---------------------------------------------------------------------------\u001b[0m",
      "\u001b[0;31mNameError\u001b[0m                                 Traceback (most recent call last)",
      "\u001b[0;32m/var/folders/5y/0ycl3_p52tq39cqbr68vf0mc0000gp/T/ipykernel_87813/2045710474.py\u001b[0m in \u001b[0;36m<module>\u001b[0;34m\u001b[0m\n\u001b[0;32m----> 1\u001b[0;31m \u001b[0mtest\u001b[0m \u001b[0;34m=\u001b[0m \u001b[0mget_observation\u001b[0m\u001b[0;34m(\u001b[0m\u001b[0mboard\u001b[0m\u001b[0;34m,\u001b[0m \u001b[0;36m0\u001b[0m\u001b[0;34m)\u001b[0m\u001b[0;34m\u001b[0m\u001b[0;34m\u001b[0m\u001b[0m\n\u001b[0m",
      "\u001b[0;31mNameError\u001b[0m: name 'board' is not defined"
     ]
    }
   ],
   "source": [
    "test = get_observation(board, 0)"
   ]
  },
  {
   "cell_type": "code",
   "execution_count": 10,
   "id": "52ebb654",
   "metadata": {},
   "outputs": [],
   "source": [
    "test = np.array([0, 1])"
   ]
  },
  {
   "cell_type": "code",
   "execution_count": 11,
   "id": "456c3cfc",
   "metadata": {},
   "outputs": [
    {
     "data": {
      "text/plain": [
       "numpy.ndarray"
      ]
     },
     "execution_count": 11,
     "metadata": {},
     "output_type": "execute_result"
    }
   ],
   "source": [
    "type(test)"
   ]
  },
  {
   "cell_type": "code",
   "execution_count": 13,
   "id": "98dc5a7e",
   "metadata": {},
   "outputs": [
    {
     "data": {
      "text/plain": [
       "True"
      ]
     },
     "execution_count": 13,
     "metadata": {},
     "output_type": "execute_result"
    }
   ],
   "source": [
    "isinstance(test, np.ndarray)"
   ]
  },
  {
   "cell_type": "code",
   "execution_count": 18,
   "id": "e22bec0c",
   "metadata": {},
   "outputs": [
    {
     "ename": "TypeError",
     "evalue": "__init__() missing 1 required positional argument: 'high'",
     "output_type": "error",
     "traceback": [
      "\u001b[0;31m---------------------------------------------------------------------------\u001b[0m",
      "\u001b[0;31mTypeError\u001b[0m                                 Traceback (most recent call last)",
      "\u001b[0;32m/var/folders/5y/0ycl3_p52tq39cqbr68vf0mc0000gp/T/ipykernel_87813/2803649604.py\u001b[0m in \u001b[0;36m<module>\u001b[0;34m\u001b[0m\n\u001b[0;32m----> 1\u001b[0;31m \u001b[0mspaces\u001b[0m\u001b[0;34m.\u001b[0m\u001b[0mBox\u001b[0m\u001b[0;34m(\u001b[0m\u001b[0mtest\u001b[0m\u001b[0;34m)\u001b[0m\u001b[0;34m\u001b[0m\u001b[0;34m\u001b[0m\u001b[0m\n\u001b[0m",
      "\u001b[0;31mTypeError\u001b[0m: __init__() missing 1 required positional argument: 'high'"
     ]
    }
   ],
   "source": [
    "spaces.Box(test)"
   ]
  },
  {
   "cell_type": "code",
   "execution_count": null,
   "id": "0e0f04b3",
   "metadata": {},
   "outputs": [],
   "source": []
  }
 ],
 "metadata": {
  "kernelspec": {
   "display_name": "Python 3 (ipykernel)",
   "language": "python",
   "name": "python3"
  },
  "language_info": {
   "codemirror_mode": {
    "name": "ipython",
    "version": 3
   },
   "file_extension": ".py",
   "mimetype": "text/x-python",
   "name": "python",
   "nbconvert_exporter": "python",
   "pygments_lexer": "ipython3",
   "version": "3.8.12"
  }
 },
 "nbformat": 4,
 "nbformat_minor": 5
}
