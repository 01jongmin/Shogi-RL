{
 "cells": [
  {
   "cell_type": "code",
   "execution_count": 1,
   "id": "66b7e424",
   "metadata": {},
   "outputs": [],
   "source": [
    "from shogi_simple.shogi_pettingzoo_env import raw_env"
   ]
  },
  {
   "cell_type": "code",
   "execution_count": 30,
   "id": "90e26914",
   "metadata": {},
   "outputs": [],
   "source": [
    "import numpy as np"
   ]
  },
  {
   "cell_type": "code",
   "execution_count": 26,
   "id": "7078e05f",
   "metadata": {},
   "outputs": [
    {
     "data": {
      "text/plain": [
       "['__class__',\n",
       " '__delattr__',\n",
       " '__dict__',\n",
       " '__dir__',\n",
       " '__doc__',\n",
       " '__eq__',\n",
       " '__format__',\n",
       " '__ge__',\n",
       " '__getattribute__',\n",
       " '__gt__',\n",
       " '__hash__',\n",
       " '__init__',\n",
       " '__init_subclass__',\n",
       " '__le__',\n",
       " '__lt__',\n",
       " '__module__',\n",
       " '__ne__',\n",
       " '__new__',\n",
       " '__reduce__',\n",
       " '__reduce_ex__',\n",
       " '__repr__',\n",
       " '__setattr__',\n",
       " '__sizeof__',\n",
       " '__str__',\n",
       " '__subclasshook__',\n",
       " '__weakref__',\n",
       " '_accumulate_rewards',\n",
       " '_agent_selector',\n",
       " '_clear_rewards',\n",
       " '_cumulative_rewards',\n",
       " '_dones_step_first',\n",
       " '_was_done_step',\n",
       " 'action_space',\n",
       " 'action_spaces',\n",
       " 'agent_iter',\n",
       " 'agent_selection',\n",
       " 'agents',\n",
       " 'board',\n",
       " 'close',\n",
       " 'dones',\n",
       " 'has_reset',\n",
       " 'infos',\n",
       " 'last',\n",
       " 'max_num_agents',\n",
       " 'metadata',\n",
       " 'num_agents',\n",
       " 'observation_space',\n",
       " 'observation_spaces',\n",
       " 'observe',\n",
       " 'possible_agents',\n",
       " 'render',\n",
       " 'reset',\n",
       " 'rewards',\n",
       " 'seed',\n",
       " 'state',\n",
       " 'step',\n",
       " 'unwrapped']"
      ]
     },
     "execution_count": 26,
     "metadata": {},
     "output_type": "execute_result"
    }
   ],
   "source": [
    "dir(env)"
   ]
  },
  {
   "cell_type": "code",
   "execution_count": 2,
   "id": "bb16e102",
   "metadata": {},
   "outputs": [],
   "source": [
    "env = raw_env()"
   ]
  },
  {
   "cell_type": "code",
   "execution_count": 31,
   "id": "5be27199",
   "metadata": {},
   "outputs": [
    {
     "data": {
      "text/plain": [
       "(array([ 65,  67,  70,  74,  80,  81,  84,  96,  98,  99, 100, 104, 105,\n",
       "        107, 108, 109, 113]),)"
      ]
     },
     "execution_count": 31,
     "metadata": {},
     "output_type": "execute_result"
    }
   ],
   "source": [
    "np.where(env.observe(\"player_0\")[\"action_mask\"] == 1)"
   ]
  },
  {
   "cell_type": "code",
   "execution_count": 8,
   "id": "b408e500",
   "metadata": {},
   "outputs": [
    {
     "name": "stdout",
     "output_type": "stream",
     "text": [
      "\n",
      "------------------------------\n",
      "\u001b[32m將\u001b[0m\t\u001b[32m王\u001b[0m\t\u001b[32m相\u001b[0m\n",
      " \t\u001b[32m子\u001b[0m\t \n",
      " \t\u001b[31m子\u001b[0m\t \n",
      "\u001b[31m相\u001b[0m\t\u001b[31m王\u001b[0m\t\u001b[31m將\u001b[0m\n",
      "--------------------------------\n",
      "\n"
     ]
    }
   ],
   "source": [
    "env.render()"
   ]
  },
  {
   "cell_type": "code",
   "execution_count": 47,
   "id": "ce568c23",
   "metadata": {},
   "outputs": [
    {
     "name": "stdout",
     "output_type": "stream",
     "text": [
      "\n",
      "------------------------------\n",
      " \t\u001b[32m將\u001b[0m\t \n",
      " \t \t\u001b[31m王\u001b[0m\n",
      " \t \t \n",
      "\u001b[31m相\u001b[0m\t \t \n",
      "--------------------------------\n",
      "\n"
     ]
    }
   ],
   "source": [
    "env.reset()\n",
    "env.step(57)\n",
    "env.step(74)\n",
    "env.step(100)\n",
    "env.step(96)\n",
    "env.step(57)\n",
    "env.step(80)\n",
    "env.step(89)\n",
    "env.step(52)\n",
    "env.step(67)\n",
    "env.step(61)\n",
    "env.step(82)\n",
    "env.step(100)\n",
    "env.step(57)\n",
    "env.step(91)\n",
    "env.step(36)\n",
    "env.step(73)\n",
    "env.step(65)\n",
    "env.render()"
   ]
  },
  {
   "cell_type": "code",
   "execution_count": 12,
   "id": "7d499500",
   "metadata": {},
   "outputs": [
    {
     "name": "stdout",
     "output_type": "stream",
     "text": [
      "\n",
      "------------------------------\n",
      "\u001b[32m將\u001b[0m\t\u001b[32m王\u001b[0m\t \n",
      " \t\u001b[32m相\u001b[0m\t \n",
      " \t \t \n",
      "\u001b[31m相\u001b[0m\t\u001b[31m王\u001b[0m\t\u001b[31m將\u001b[0m\n",
      "--------------------------------\n",
      "\n"
     ]
    }
   ],
   "source": []
  },
  {
   "cell_type": "code",
   "execution_count": 35,
   "id": "0faa7534",
   "metadata": {},
   "outputs": [
    {
     "ename": "ValueError",
     "evalue": "when an agent is done, the only valid action is None",
     "output_type": "error",
     "traceback": [
      "\u001b[0;31m---------------------------------------------------------------------------\u001b[0m",
      "\u001b[0;31mValueError\u001b[0m                                Traceback (most recent call last)",
      "Input \u001b[0;32mIn [35]\u001b[0m, in \u001b[0;36m<cell line: 1>\u001b[0;34m()\u001b[0m\n\u001b[0;32m----> 1\u001b[0m \u001b[43menv\u001b[49m\u001b[38;5;241;43m.\u001b[39;49m\u001b[43mstep\u001b[49m\u001b[43m(\u001b[49m\u001b[38;5;241;43m69\u001b[39;49m\u001b[43m)\u001b[49m\n",
      "File \u001b[0;32m~/Developer/rllib/shogi/shogi_pettingzoo_env.py:106\u001b[0m, in \u001b[0;36mraw_env.step\u001b[0;34m(self, action)\u001b[0m\n\u001b[1;32m    104\u001b[0m \u001b[38;5;28;01mdef\u001b[39;00m \u001b[38;5;21mstep\u001b[39m(\u001b[38;5;28mself\u001b[39m, action):\n\u001b[1;32m    105\u001b[0m     \u001b[38;5;28;01mif\u001b[39;00m \u001b[38;5;28mself\u001b[39m\u001b[38;5;241m.\u001b[39mdones[\u001b[38;5;28mself\u001b[39m\u001b[38;5;241m.\u001b[39magent_selection]:\n\u001b[0;32m--> 106\u001b[0m         \u001b[38;5;28;01mreturn\u001b[39;00m \u001b[38;5;28;43mself\u001b[39;49m\u001b[38;5;241;43m.\u001b[39;49m\u001b[43m_was_done_step\u001b[49m\u001b[43m(\u001b[49m\u001b[43maction\u001b[49m\u001b[43m)\u001b[49m\n\u001b[1;32m    108\u001b[0m     current_agent \u001b[38;5;241m=\u001b[39m \u001b[38;5;28mself\u001b[39m\u001b[38;5;241m.\u001b[39magent_selection\n\u001b[1;32m    109\u001b[0m     current_index \u001b[38;5;241m=\u001b[39m \u001b[38;5;28mself\u001b[39m\u001b[38;5;241m.\u001b[39magents\u001b[38;5;241m.\u001b[39mindex(current_agent)\n",
      "File \u001b[0;32m~/opt/anaconda3/envs/rllib/lib/python3.8/site-packages/pettingzoo/utils/env.py:158\u001b[0m, in \u001b[0;36mAECEnv._was_done_step\u001b[0;34m(self, action)\u001b[0m\n\u001b[1;32m    140\u001b[0m \u001b[38;5;124;03m'''\u001b[39;00m\n\u001b[1;32m    141\u001b[0m \u001b[38;5;124;03mHelper function that performs step() for done agents.\u001b[39;00m\n\u001b[1;32m    142\u001b[0m \n\u001b[0;32m   (...)\u001b[0m\n\u001b[1;32m    155\u001b[0m \u001b[38;5;124;03m    # main contents of step\u001b[39;00m\n\u001b[1;32m    156\u001b[0m \u001b[38;5;124;03m'''\u001b[39;00m\n\u001b[1;32m    157\u001b[0m \u001b[38;5;28;01mif\u001b[39;00m action \u001b[38;5;129;01mis\u001b[39;00m \u001b[38;5;129;01mnot\u001b[39;00m \u001b[38;5;28;01mNone\u001b[39;00m:\n\u001b[0;32m--> 158\u001b[0m     \u001b[38;5;28;01mraise\u001b[39;00m \u001b[38;5;167;01mValueError\u001b[39;00m(\u001b[38;5;124m\"\u001b[39m\u001b[38;5;124mwhen an agent is done, the only valid action is None\u001b[39m\u001b[38;5;124m\"\u001b[39m)\n\u001b[1;32m    160\u001b[0m \u001b[38;5;66;03m# removes done agent\u001b[39;00m\n\u001b[1;32m    161\u001b[0m agent \u001b[38;5;241m=\u001b[39m \u001b[38;5;28mself\u001b[39m\u001b[38;5;241m.\u001b[39magent_selection\n",
      "\u001b[0;31mValueError\u001b[0m: when an agent is done, the only valid action is None"
     ]
    }
   ],
   "source": [
    "env.step(69)"
   ]
  },
  {
   "cell_type": "code",
   "execution_count": null,
   "id": "b9ce9310",
   "metadata": {},
   "outputs": [],
   "source": []
  }
 ],
 "metadata": {
  "kernelspec": {
   "display_name": "Python 3 (ipykernel)",
   "language": "python",
   "name": "python3"
  },
  "language_info": {
   "codemirror_mode": {
    "name": "ipython",
    "version": 3
   },
   "file_extension": ".py",
   "mimetype": "text/x-python",
   "name": "python",
   "nbconvert_exporter": "python",
   "pygments_lexer": "ipython3",
   "version": "3.8.13"
  }
 },
 "nbformat": 4,
 "nbformat_minor": 5
}
